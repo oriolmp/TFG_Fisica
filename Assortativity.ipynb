{
 "cells": [
  {
   "cell_type": "code",
   "execution_count": 1,
   "id": "3974d7bb-c29f-4d5b-baaf-a2f20b659ed3",
   "metadata": {},
   "outputs": [],
   "source": [
    "import pandas as pd\n",
    "import networkx as nx\n",
    "import numpy as np\n",
    "import matplotlib.pyplot as plt\n",
    "import itertools\n",
    "from utils import COLORS, color_coding\n",
    "from pylab import rcParams"
   ]
  },
  {
   "cell_type": "code",
   "execution_count": 2,
   "id": "c6e3ea6b-7631-4a9d-91ba-6929b99eb828",
   "metadata": {},
   "outputs": [],
   "source": [
    "GRAPH_PATH_YO = './graphs/yo_2.graphml'\n",
    "GRAPH_PATH_OTRO = './graphs/otro_2.graphml'\n",
    "SOCIODEMOGRAPHIC_PATH = \"./data/Sociodemographic_survey/answers_sociodemographic_survey.pkl\""
   ]
  },
  {
   "cell_type": "code",
   "execution_count": 3,
   "id": "fe80b6f3-2416-4a65-9c85-da3f2b8c1b4a",
   "metadata": {},
   "outputs": [],
   "source": [
    "G_yo = nx.read_graphml(GRAPH_PATH_YO)\n",
    "G_otro = nx.read_graphml(GRAPH_PATH_OTRO)"
   ]
  },
  {
   "cell_type": "code",
   "execution_count": 4,
   "id": "a616c590-79b5-4dcf-85f9-0031689fb605",
   "metadata": {},
   "outputs": [],
   "source": [
    "adj = G_yo.adjacency()\n",
    "Gnodes = G_yo.nodes"
   ]
  },
  {
   "cell_type": "code",
   "execution_count": 5,
   "id": "07248e3a-c094-4b67-baad-7e5c653b5dfb",
   "metadata": {},
   "outputs": [],
   "source": [
    "for a, b in adj:\n",
    "    # print(f'a: {a}\\nb: {b}')\n",
    "    break"
   ]
  },
  {
   "cell_type": "code",
   "execution_count": 6,
   "id": "2d5aa440-ea32-4fa0-bfe5-4f575d84ed05",
   "metadata": {},
   "outputs": [
    {
     "name": "stdout",
     "output_type": "stream",
     "text": [
      "bd4b2f4 0.45098039215686264\n"
     ]
    }
   ],
   "source": [
    "for b1, b2 in b.items():\n",
    "    print(b1, b2['weight'])\n",
    "    break"
   ]
  },
  {
   "cell_type": "code",
   "execution_count": 7,
   "id": "5461a298-633e-44dd-9ca8-46b73f844e94",
   "metadata": {},
   "outputs": [],
   "source": [
    "def node_attribute_xy(G, attribute, nodes=None):\n",
    "    \"\"\"Returns iterator of node-attribute pairs for all edges in G, with the weight of the edge connecting them.\n",
    "\n",
    "    Parameters\n",
    "    ----------\n",
    "    G: NetworkX graph\n",
    "\n",
    "    attribute: key\n",
    "       The node attribute key.\n",
    "\n",
    "    nodes: list or iterable (optional)\n",
    "        Use only edges that are incident to specified nodes.\n",
    "        The default is all nodes.\n",
    "\n",
    "    Returns\n",
    "    -------\n",
    "    (x, y, z): 2-tuple\n",
    "        Generates 2-tuple of (attribute, attribute, weight) values.\n",
    "\n",
    "    Examples\n",
    "    --------\n",
    "    >>> G = nx.DiGraph()\n",
    "    >>> G.add_node(1, color=\"red\")\n",
    "    >>> G.add_node(2, color=\"blue\")\n",
    "    >>> G.add_edge(1, 2)\n",
    "    >>> weight = 0.1\n",
    "    >>> G.add_weighted_edges_from(list((1, n, weight) for n in G.nodes))\n",
    "    >>> list(nx.node_attribute_xy(G, \"color\"))\n",
    "    [('red', 'blue', 0.1)]\n",
    "\n",
    "    Notes\n",
    "    -----\n",
    "    For undirected graphs each edge is produced twice, once for each edge\n",
    "    representation (u, v) and (v, u), with the exception of self-loop edges\n",
    "    which only appear once.\n",
    "    \"\"\"\n",
    "    if nodes is None:\n",
    "        nodes = set(G)\n",
    "    else:\n",
    "        nodes = set(nodes)\n",
    "    Gnodes = G.nodes\n",
    "    for u, nbrsdict in G.adjacency():\n",
    "        if u not in nodes:\n",
    "            continue\n",
    "        uattr = Gnodes[u].get(attribute, None)\n",
    "        if G.is_multigraph():\n",
    "            for v, keys in nbrsdict.items():\n",
    "                vattr = Gnodes[v].get(attribute, None)\n",
    "                for _ in keys:\n",
    "                    yield (uattr, vattr)\n",
    "        else:\n",
    "            for v, w in nbrsdict.items():\n",
    "                vattr = Gnodes[v].get(attribute, None)\n",
    "                uvweight = w['weight']\n",
    "                yield (uattr, vattr, uvweight)"
   ]
  },
  {
   "cell_type": "code",
   "execution_count": 45,
   "id": "31f221d6-35b7-461d-b011-856d9a2ab91b",
   "metadata": {},
   "outputs": [],
   "source": [
    "def mixing_dict(xyz, normalized=False):\n",
    "    \"\"\"Returns a dictionary representation of mixing matrix.\n",
    "\n",
    "    Parameters\n",
    "    ----------\n",
    "    xyz : list or container of three-tuples\n",
    "       Pairs of (x,y,z) items (attribute, attribute, weight).\n",
    "\n",
    "    attribute : string\n",
    "       Node attribute key\n",
    "\n",
    "    normalized : bool (default=False)\n",
    "       Return counts if False or probabilities if True.\n",
    "\n",
    "    Returns\n",
    "    -------\n",
    "    d: dictionary\n",
    "       Counts or Joint probability of occurrence of values in xy.\n",
    "    \"\"\"\n",
    "    d = {}\n",
    "    psum = 0.0\n",
    "    for x, y, z in xyz:\n",
    "        if x not in d:\n",
    "            d[x] = {}\n",
    "        if y not in d:\n",
    "            d[y] = {}\n",
    "        v = d[x].get(y, 0)\n",
    "        d[x][y] = v + z\n",
    "        psum += z\n",
    "        # print(psum)\n",
    "\n",
    "    if normalized:\n",
    "        for _, jdict in d.items():\n",
    "            for j in jdict:\n",
    "                jdict[j] /= psum\n",
    "    print(f'psum: {psum}')\n",
    "    return d"
   ]
  },
  {
   "cell_type": "code",
   "execution_count": 9,
   "id": "9d874c93-9032-4469-8f65-b096f7cff636",
   "metadata": {},
   "outputs": [
    {
     "data": {
      "text/plain": [
       "{'old': {'young': 0.2390580614811188, 'old': 0.3860572834681267},\n",
       " 'young': {'old': 0.23905806148111858, 'young': 0.1358265935696318}}"
      ]
     },
     "execution_count": 9,
     "metadata": {},
     "output_type": "execute_result"
    }
   ],
   "source": [
    "iter_xyz = node_attribute_xy(G_yo, 'age_bracket')\n",
    "mix_dict = mixing_dict(iter_xyz, normalized=True)\n",
    "mix_dict"
   ]
  },
  {
   "cell_type": "code",
   "execution_count": 10,
   "id": "f5b203fe-db12-4c20-9efa-1f23aaaf15be",
   "metadata": {
    "tags": []
   },
   "outputs": [],
   "source": [
    "def attribute_mixing_dict(G, attribute, nodes=None, normalized=False):\n",
    "    \"\"\"Returns dictionary representation of mixing matrix for attribute.\n",
    "\n",
    "    Parameters\n",
    "    ----------\n",
    "    G : graph\n",
    "       NetworkX graph object.\n",
    "\n",
    "    attribute : string\n",
    "       Node attribute key.\n",
    "\n",
    "    nodes: list or iterable (optional)\n",
    "        Unse nodes in container to build the dict. The default is all nodes.\n",
    "\n",
    "    normalized : bool (default=False)\n",
    "       Return counts if False or probabilities if True.\n",
    "\n",
    "    Examples\n",
    "    --------\n",
    "    >>> G = nx.Graph()\n",
    "    >>> G.add_nodes_from([0, 1], color=\"red\")\n",
    "    >>> G.add_nodes_from([2, 3], color=\"blue\")\n",
    "    >>> G.add_edge(1, 3)\n",
    "    >>> d = nx.attribute_mixing_dict(G, \"color\")\n",
    "    >>> print(d[\"red\"][\"blue\"])\n",
    "    1\n",
    "    >>> print(d[\"blue\"][\"red\"])  # d symmetric for undirected graphs\n",
    "    1\n",
    "\n",
    "    Returns\n",
    "    -------\n",
    "    d : dictionary\n",
    "       Counts or joint probability of occurrence of attribute pairs.\n",
    "    \"\"\"\n",
    "    xy_iter = node_attribute_xy(G, attribute, nodes)\n",
    "    return mixing_dict(xy_iter, normalized=normalized)"
   ]
  },
  {
   "cell_type": "code",
   "execution_count": 11,
   "id": "a27ae3b3-232a-4337-92bb-fb405e20ebcb",
   "metadata": {},
   "outputs": [
    {
     "data": {
      "text/plain": [
       "{'old': {'young': 0.2390580614811188, 'old': 0.3860572834681267},\n",
       " 'young': {'old': 0.23905806148111858, 'young': 0.1358265935696318}}"
      ]
     },
     "execution_count": 11,
     "metadata": {},
     "output_type": "execute_result"
    }
   ],
   "source": [
    "mix_dict_2 = attribute_mixing_dict(G_yo, 'age_bracket', normalized=True)\n",
    "mix_dict_2"
   ]
  },
  {
   "cell_type": "code",
   "execution_count": 12,
   "id": "74c12859-2d03-416c-8930-356411a4da39",
   "metadata": {},
   "outputs": [],
   "source": [
    "from networkx.utils import dict_to_numpy_array"
   ]
  },
  {
   "cell_type": "code",
   "execution_count": 13,
   "id": "c0077442-f669-4654-aa50-670c3f0ecd58",
   "metadata": {},
   "outputs": [],
   "source": [
    "def attribute_mixing_matrix(G, attribute, nodes=None, mapping=None, normalized=True):\n",
    "    \"\"\"Returns mixing matrix for attribute.\n",
    "\n",
    "    Parameters\n",
    "    ----------\n",
    "    G : graph\n",
    "       NetworkX graph object.\n",
    "\n",
    "    attribute : string\n",
    "       Node attribute key.\n",
    "\n",
    "    nodes: list or iterable (optional)\n",
    "        Use only nodes in container to build the matrix. The default is\n",
    "        all nodes.\n",
    "\n",
    "    mapping : dictionary, optional\n",
    "       Mapping from node attribute to integer index in matrix.\n",
    "       If not specified, an arbitrary ordering will be used.\n",
    "\n",
    "    normalized : bool (default=True)\n",
    "       Return counts if False or probabilities if True.\n",
    "\n",
    "    Returns\n",
    "    -------\n",
    "    m: numpy array\n",
    "       Counts or joint probability of occurrence of attribute pairs.\n",
    "\n",
    "    Notes\n",
    "    -----\n",
    "    If each node has a unique attribute value, the unnormalized mixing matrix\n",
    "    will be equal to the adjacency matrix. To get a denser mixing matrix,\n",
    "    the rounding can be performed to form groups of nodes with equal values.\n",
    "    For example, the exact height of persons in cm (180.79155222, 163.9080892,\n",
    "    163.30095355, 167.99016217, 168.21590163, ...) can be rounded to (180, 163,\n",
    "    163, 168, 168, ...).\n",
    "\n",
    "    Definitions of attribute mixing matrix vary on whether the matrix\n",
    "    should include rows for attribute values that don't arise. Here we\n",
    "    do not include such empty-rows. But you can force them to appear\n",
    "    by inputting a `mapping` that includes those values.\n",
    "\n",
    "    Examples\n",
    "    --------\n",
    "    >>> G = nx.path_graph(3)\n",
    "    >>> gender = {0: 'male', 1: 'female', 2: 'female'}\n",
    "    >>> nx.set_node_attributes(G, gender, 'gender')\n",
    "    >>> mapping = {'male': 0, 'female': 1}\n",
    "    >>> mix_mat = nx.attribute_mixing_matrix(G, 'gender', mapping=mapping)\n",
    "    >>> # mixing from male nodes to female nodes\n",
    "    >>> mix_mat[mapping['male'], mapping['female']]\n",
    "    0.25\n",
    "    \"\"\"\n",
    "    d = attribute_mixing_dict(G, attribute, nodes)\n",
    "    a = dict_to_numpy_array(d, mapping=mapping)\n",
    "    if normalized:\n",
    "        a = a / a.sum()\n",
    "    return a\n"
   ]
  },
  {
   "cell_type": "code",
   "execution_count": 14,
   "id": "53c86f25-f29f-44fa-8d9a-1476ad0fb8b8",
   "metadata": {},
   "outputs": [
    {
     "data": {
      "text/plain": [
       "array([[0.38605728, 0.23905806],\n",
       "       [0.23905806, 0.13582659]])"
      ]
     },
     "execution_count": 14,
     "metadata": {},
     "output_type": "execute_result"
    }
   ],
   "source": [
    "attr_mat = attribute_mixing_matrix(G_yo, 'age_bracket')\n",
    "attr_mat"
   ]
  },
  {
   "cell_type": "code",
   "execution_count": 15,
   "id": "9f3e7946-20ca-4298-bf2c-be39172e31e3",
   "metadata": {},
   "outputs": [
    {
     "data": {
      "text/plain": [
       "1.0"
      ]
     },
     "execution_count": 15,
     "metadata": {},
     "output_type": "execute_result"
    }
   ],
   "source": [
    "attr_mat.sum()"
   ]
  },
  {
   "cell_type": "code",
   "execution_count": 16,
   "id": "219c27da-336f-4f5c-b995-587adebdc2b4",
   "metadata": {},
   "outputs": [],
   "source": [
    "def attribute_ac(M):\n",
    "    \"\"\"Compute assortativity for attribute matrix M.\n",
    "\n",
    "    Parameters\n",
    "    ----------\n",
    "    M : numpy.ndarray\n",
    "        2D ndarray representing the attribute mixing matrix.\n",
    "\n",
    "    Notes\n",
    "    -----\n",
    "    This computes Eq. (2) in Ref. [1]_ , (trace(e)-sum(e^2))/(1-sum(e^2)),\n",
    "    where e is the joint probability distribution (mixing matrix)\n",
    "    of the specified attribute.\n",
    "\n",
    "    References\n",
    "    ----------\n",
    "    .. [1] M. E. J. Newman, Mixing patterns in networks,\n",
    "       Physical Review E, 67 026126, 2003\n",
    "    \"\"\"\n",
    "    if M.sum() != 1.0:\n",
    "        M = M / M.sum()\n",
    "    s = (M @ M).sum()\n",
    "    t = M.trace()\n",
    "    r = (t - s) / (1 - s)\n",
    "    r_min = (-s) / (1 - s)\n",
    "    print(r_min)\n",
    "    return r"
   ]
  },
  {
   "cell_type": "code",
   "execution_count": 17,
   "id": "2fa75b67-6fee-4715-87e6-3e01af6ae891",
   "metadata": {},
   "outputs": [],
   "source": [
    "def attribute_assortativity_coefficient(G, attribute, nodes=None):\n",
    "    \"\"\"Compute assortativity for node attributes.\n",
    "\n",
    "    Assortativity measures the similarity of connections\n",
    "    in the graph with respect to the given attribute.\n",
    "\n",
    "    Parameters\n",
    "    ----------\n",
    "    G : NetworkX graph\n",
    "\n",
    "    attribute : string\n",
    "        Node attribute key\n",
    "\n",
    "    nodes: list or iterable (optional)\n",
    "        Compute attribute assortativity for nodes in container.\n",
    "        The default is all nodes.\n",
    "\n",
    "    Returns\n",
    "    -------\n",
    "    r: float\n",
    "       Assortativity of graph for given attribute\n",
    "\n",
    "    Examples\n",
    "    --------\n",
    "    >>> G = nx.Graph()\n",
    "    >>> G.add_nodes_from([0, 1], color=\"red\")\n",
    "    >>> G.add_nodes_from([2, 3], color=\"blue\")\n",
    "    >>> G.add_edges_from([(0, 1), (2, 3)])\n",
    "    >>> print(nx.attribute_assortativity_coefficient(G, \"color\"))\n",
    "    1.0\n",
    "\n",
    "    Notes\n",
    "    -----\n",
    "    This computes Eq. (2) in Ref. [1]_ , (trace(M)-sum(M^2))/(1-sum(M^2)),\n",
    "    where M is the joint probability distribution (mixing matrix)\n",
    "    of the specified attribute.\n",
    "\n",
    "    References\n",
    "    ----------\n",
    "    .. [1] M. E. J. Newman, Mixing patterns in networks,\n",
    "       Physical Review E, 67 026126, 2003\n",
    "    \"\"\"\n",
    "    M = attribute_mixing_matrix(G, attribute, nodes)\n",
    "    return attribute_ac(M)"
   ]
  },
  {
   "cell_type": "code",
   "execution_count": 18,
   "id": "b8275807-03e3-48dc-9816-ba1953c3a053",
   "metadata": {},
   "outputs": [
    {
     "name": "stdout",
     "output_type": "stream",
     "text": [
      "-1.1335959606006796\n"
     ]
    },
    {
     "data": {
      "text/plain": [
       "-0.020106628650291496"
      ]
     },
     "execution_count": 18,
     "metadata": {},
     "output_type": "execute_result"
    }
   ],
   "source": [
    "r = attribute_assortativity_coefficient(G_yo, 'age_bracket')\n",
    "r"
   ]
  },
  {
   "cell_type": "code",
   "execution_count": 19,
   "id": "cdbc2510-d2e6-4531-89da-1145fb415433",
   "metadata": {},
   "outputs": [
    {
     "name": "stdout",
     "output_type": "stream",
     "text": [
      "-1.2372737673378285\n"
     ]
    },
    {
     "data": {
      "text/plain": [
       "-0.02133459053812851"
      ]
     },
     "execution_count": 19,
     "metadata": {},
     "output_type": "execute_result"
    }
   ],
   "source": [
    "r_otro = attribute_assortativity_coefficient(G_otro, 'age_bracket')\n",
    "r_otro"
   ]
  },
  {
   "cell_type": "markdown",
   "id": "07ac1ba0-0b9b-42a1-b9a0-254725e62030",
   "metadata": {
    "tags": []
   },
   "source": [
    "## Test with small graph"
   ]
  },
  {
   "cell_type": "markdown",
   "id": "49afa70e-8b47-40bb-9780-5ffd6d4a42cd",
   "metadata": {},
   "source": [
    "Load graph with only 4 nodes to test computation manually"
   ]
  },
  {
   "cell_type": "code",
   "execution_count": 33,
   "id": "645d88e5-2078-49f6-ab27-9a094ed60c4d",
   "metadata": {},
   "outputs": [],
   "source": [
    "GRAPH_PATH_YO_4_NODES = './graphs/yo_3.graphml'"
   ]
  },
  {
   "cell_type": "code",
   "execution_count": 34,
   "id": "374ca20b-846d-4b83-9cf1-2d3b3e4f812e",
   "metadata": {},
   "outputs": [],
   "source": [
    "G4 = nx.read_graphml(GRAPH_PATH_YO_4_NODES)"
   ]
  },
  {
   "cell_type": "code",
   "execution_count": 36,
   "id": "6be236a2-6c7f-4cb6-ae3d-10387786adba",
   "metadata": {},
   "outputs": [
    {
     "name": "stdout",
     "output_type": "stream",
     "text": [
      "-1.462380300957593\n"
     ]
    },
    {
     "data": {
      "text/plain": [
       "-0.39534883720930275"
      ]
     },
     "execution_count": 36,
     "metadata": {},
     "output_type": "execute_result"
    }
   ],
   "source": [
    "r4 = attribute_assortativity_coefficient(G4, 'age_bracket')\n",
    "r4"
   ]
  },
  {
   "cell_type": "code",
   "execution_count": 40,
   "id": "831cba67-f7a0-4b51-abee-5128b0a4e415",
   "metadata": {},
   "outputs": [],
   "source": [
    "edges4 = nx.get_edge_attributes(G4, 'weight')"
   ]
  },
  {
   "cell_type": "code",
   "execution_count": 41,
   "id": "d926bce6-c5fe-4ebe-bb65-2daf6db640b9",
   "metadata": {},
   "outputs": [
    {
     "data": {
      "text/plain": [
       "{('4e53c5c', 'bd4b2f4'): 0.45098039215686264,\n",
       " ('4e53c5c', 'aa07d95'): 0.36274509803921573,\n",
       " ('4e53c5c', 'db7d9c3'): 0.19117647058823528,\n",
       " ('bd4b2f4', 'aa07d95'): 0.35784313725490197,\n",
       " ('bd4b2f4', 'db7d9c3'): 0.19117647058823528,\n",
       " ('aa07d95', 'db7d9c3'): 0.21078431372549017}"
      ]
     },
     "execution_count": 41,
     "metadata": {},
     "output_type": "execute_result"
    }
   ],
   "source": [
    "edges4"
   ]
  },
  {
   "cell_type": "code",
   "execution_count": 42,
   "id": "3fc07393-2056-46a8-a317-fde62ae5689a",
   "metadata": {},
   "outputs": [
    {
     "data": {
      "text/plain": [
       "{'4e53c5c': 'old', 'bd4b2f4': 'young', 'aa07d95': 'old', 'db7d9c3': 'old'}"
      ]
     },
     "execution_count": 42,
     "metadata": {},
     "output_type": "execute_result"
    }
   ],
   "source": [
    "attributes4 = nx.get_node_attributes(G4, 'age_bracket')\n",
    "attributes4"
   ]
  },
  {
   "cell_type": "code",
   "execution_count": 49,
   "id": "4c182e22-e4ad-4bc1-a59f-72ac8698a68c",
   "metadata": {},
   "outputs": [
    {
     "name": "stdout",
     "output_type": "stream",
     "text": [
      "old young 0.45098039215686264\n",
      "old old 0.36274509803921573\n",
      "old old 0.19117647058823528\n",
      "young old 0.45098039215686264\n",
      "young old 0.35784313725490197\n",
      "young old 0.19117647058823528\n",
      "old old 0.36274509803921573\n",
      "old young 0.35784313725490197\n",
      "old old 0.21078431372549017\n",
      "old old 0.19117647058823528\n",
      "old young 0.19117647058823528\n",
      "old old 0.21078431372549017\n"
     ]
    }
   ],
   "source": [
    "iter_xyz = node_attribute_xy(G4, 'age_bracket')\n",
    "for x, y, z in iter_xyz:\n",
    "    print(x, y, z)"
   ]
  },
  {
   "cell_type": "code",
   "execution_count": 48,
   "id": "cd416c13-6090-4568-b27e-f0b235eda1da",
   "metadata": {},
   "outputs": [
    {
     "name": "stdout",
     "output_type": "stream",
     "text": [
      "psum: 3.529411764705883\n"
     ]
    },
    {
     "data": {
      "text/plain": [
       "{'old': {'young': 0.2833333333333332, 'old': 0.4333333333333332},\n",
       " 'young': {'old': 0.2833333333333332}}"
      ]
     },
     "execution_count": 48,
     "metadata": {},
     "output_type": "execute_result"
    }
   ],
   "source": [
    "mix_dict = mixing_dict(iter_xyz, normalized=True)\n",
    "mix_dict"
   ]
  },
  {
   "cell_type": "code",
   "execution_count": 50,
   "id": "b60986b7-92a4-481a-9aae-88b0fa9c4813",
   "metadata": {},
   "outputs": [
    {
     "name": "stdout",
     "output_type": "stream",
     "text": [
      "psum: 3.529411764705883\n"
     ]
    },
    {
     "data": {
      "text/plain": [
       "array([[0.43333333, 0.28333333],\n",
       "       [0.28333333, 0.        ]])"
      ]
     },
     "execution_count": 50,
     "metadata": {},
     "output_type": "execute_result"
    }
   ],
   "source": [
    "attr_mat = attribute_mixing_matrix(G4, 'age_bracket')\n",
    "attr_mat"
   ]
  },
  {
   "cell_type": "code",
   "execution_count": null,
   "id": "eab539ad-94d9-496d-b768-b366675a132a",
   "metadata": {},
   "outputs": [],
   "source": []
  }
 ],
 "metadata": {
  "kernelspec": {
   "display_name": "Python 3 (ipykernel)",
   "language": "python",
   "name": "python3"
  },
  "language_info": {
   "codemirror_mode": {
    "name": "ipython",
    "version": 3
   },
   "file_extension": ".py",
   "mimetype": "text/x-python",
   "name": "python",
   "nbconvert_exporter": "python",
   "pygments_lexer": "ipython3",
   "version": "3.10.9"
  }
 },
 "nbformat": 4,
 "nbformat_minor": 5
}
